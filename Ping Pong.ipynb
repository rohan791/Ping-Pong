{
 "cells": [
  {
   "cell_type": "code",
   "execution_count": 1,
   "id": "450a872b",
   "metadata": {},
   "outputs": [],
   "source": [
    "import turtle as t\n",
    "import os"
   ]
  },
  {
   "cell_type": "code",
   "execution_count": 2,
   "id": "f5c3a129",
   "metadata": {},
   "outputs": [],
   "source": [
    "player_a_score=0\n",
    "player_b_score=0"
   ]
  },
  {
   "cell_type": "code",
   "execution_count": 3,
   "id": "14bc6639",
   "metadata": {},
   "outputs": [],
   "source": [
    "win = t.Screen()    # creating a window\n",
    "win.title(\"Lets Ping-Pong Game\") # Giving name to the game.\n",
    "win.bgcolor('black')    # providing color to the HomeScreen\n",
    "win.setup(width=900,height=700) # Size of the game panel \n",
    "win.tracer(0)   # which speed up's the game."
   ]
  },
  {
   "cell_type": "code",
   "execution_count": 4,
   "id": "b48e5841",
   "metadata": {},
   "outputs": [],
   "source": [
    "# Creating left paddle for the game\n",
    "\n",
    "paddle_left = t.Turtle()\n",
    "paddle_left.speed(0)\n",
    "paddle_left.shape('square')\n",
    "paddle_left.color('blue')\n",
    "paddle_left.shapesize(stretch_wid=5,stretch_len=1)\n",
    "paddle_left.penup()\n",
    "paddle_left.goto(-350,0)"
   ]
  },
  {
   "cell_type": "code",
   "execution_count": 5,
   "id": "6347e64b",
   "metadata": {},
   "outputs": [],
   "source": [
    "paddle_right = t.Turtle()\n",
    "paddle_right.speed(0)\n",
    "paddle_right.shape('square')\n",
    "paddle_right.shapesize(stretch_wid=5,stretch_len=1)\n",
    "paddle_right.color('Yellow')\n",
    "paddle_right.penup()\n",
    "paddle_right.goto(350,0)"
   ]
  },
  {
   "cell_type": "code",
   "execution_count": 6,
   "id": "9b230e64",
   "metadata": {},
   "outputs": [],
   "source": [
    "# Creating a pong ball for the game\n",
    "\n",
    "ball = t.Turtle()\n",
    "ball.speed(0)\n",
    "ball.shape('circle')\n",
    "ball.color('white')\n",
    "ball.penup()\n",
    "ball.goto(0,0)\n",
    "ball_dx = 2.5   # Setting up the pixels for the ball movement.\n",
    "ball_dy = 2.5\n"
   ]
  },
  {
   "cell_type": "code",
   "execution_count": 7,
   "id": "7d4c32cc",
   "metadata": {},
   "outputs": [],
   "source": [
    "pen = t.Turtle()\n",
    "pen.speed(0)\n",
    "pen.color('skyblue')\n",
    "pen.penup()\n",
    "pen.hideturtle()\n",
    "pen.goto(0,260)\n",
    "pen.write(\"Player A: 0                    Player B: 0 \",align=\"center\",font=('Monaco',24,\"normal\"))"
   ]
  },
  {
   "cell_type": "code",
   "execution_count": 8,
   "id": "b76dcee8",
   "metadata": {},
   "outputs": [],
   "source": [
    "# Moving the left Paddle using the keyboard\n",
    "\n",
    "def paddle_left_up():\n",
    "    y = paddle_left.ycor()\n",
    "    y = y + 15\n",
    "    paddle_left.sety(y)\n"
   ]
  },
  {
   "cell_type": "code",
   "execution_count": 9,
   "id": "26b7e358",
   "metadata": {},
   "outputs": [],
   "source": [
    "# Moving the left paddle down\n",
    "\n",
    "def paddle_left_down():\n",
    "    y = paddle_left.ycor()\n",
    "    y = y - 15\n",
    "    paddle_left.sety(y)\n"
   ]
  },
  {
   "cell_type": "code",
   "execution_count": 10,
   "id": "f1092571",
   "metadata": {},
   "outputs": [],
   "source": [
    "# Moving the right paddle up\n",
    "\n",
    "def paddle_right_up():\n",
    "    y = paddle_right.ycor()\n",
    "    y = y + 15\n",
    "    paddle_right.sety(y)\n"
   ]
  },
  {
   "cell_type": "code",
   "execution_count": 11,
   "id": "b35cb925",
   "metadata": {},
   "outputs": [],
   "source": [
    "# Moving right paddle down\n",
    "\n",
    "def paddle_right_down():\n",
    "    y = paddle_right.ycor()\n",
    "    y = y - 15\n",
    "    paddle_right.sety(y)\n"
   ]
  },
  {
   "cell_type": "code",
   "execution_count": 12,
   "id": "2059ad34",
   "metadata": {},
   "outputs": [
    {
     "ename": "TclError",
     "evalue": "invalid command name \".!canvas\"",
     "output_type": "error",
     "traceback": [
      "\u001b[1;31m---------------------------------------------------------------------------\u001b[0m",
      "\u001b[1;31mTclError\u001b[0m                                  Traceback (most recent call last)",
      "Cell \u001b[1;32mIn[12], line 18\u001b[0m\n\u001b[0;32m     15\u001b[0m win\u001b[38;5;241m.\u001b[39mupdate() \u001b[38;5;66;03m# This methods is mandatory to run any game\u001b[39;00m\n\u001b[0;32m     17\u001b[0m \u001b[38;5;66;03m# Moving the ball\u001b[39;00m\n\u001b[1;32m---> 18\u001b[0m ball\u001b[38;5;241m.\u001b[39msetx(ball\u001b[38;5;241m.\u001b[39mxcor() \u001b[38;5;241m+\u001b[39m ball_dx)\n\u001b[0;32m     19\u001b[0m ball\u001b[38;5;241m.\u001b[39msety(ball\u001b[38;5;241m.\u001b[39mycor() \u001b[38;5;241m+\u001b[39m ball_dy)\n\u001b[0;32m     21\u001b[0m \u001b[38;5;66;03m# setting up the border\u001b[39;00m\n",
      "File \u001b[1;32mC:\\ProgramData\\anaconda3\\Lib\\turtle.py:1809\u001b[0m, in \u001b[0;36mTNavigator.setx\u001b[1;34m(self, x)\u001b[0m\n\u001b[0;32m   1793\u001b[0m \u001b[38;5;28;01mdef\u001b[39;00m \u001b[38;5;21msetx\u001b[39m(\u001b[38;5;28mself\u001b[39m, x):\n\u001b[0;32m   1794\u001b[0m \u001b[38;5;250m    \u001b[39m\u001b[38;5;124;03m\"\"\"Set the turtle's first coordinate to x\u001b[39;00m\n\u001b[0;32m   1795\u001b[0m \n\u001b[0;32m   1796\u001b[0m \u001b[38;5;124;03m    Argument:\u001b[39;00m\n\u001b[1;32m   (...)\u001b[0m\n\u001b[0;32m   1807\u001b[0m \u001b[38;5;124;03m    (10.00, 240.00)\u001b[39;00m\n\u001b[0;32m   1808\u001b[0m \u001b[38;5;124;03m    \"\"\"\u001b[39;00m\n\u001b[1;32m-> 1809\u001b[0m     \u001b[38;5;28mself\u001b[39m\u001b[38;5;241m.\u001b[39m_goto(Vec2D(x, \u001b[38;5;28mself\u001b[39m\u001b[38;5;241m.\u001b[39m_position[\u001b[38;5;241m1\u001b[39m]))\n",
      "File \u001b[1;32mC:\\ProgramData\\anaconda3\\Lib\\turtle.py:3175\u001b[0m, in \u001b[0;36mRawTurtle._goto\u001b[1;34m(self, end)\u001b[0m\n\u001b[0;32m   3167\u001b[0m go_modes \u001b[38;5;241m=\u001b[39m ( \u001b[38;5;28mself\u001b[39m\u001b[38;5;241m.\u001b[39m_drawing,\n\u001b[0;32m   3168\u001b[0m              \u001b[38;5;28mself\u001b[39m\u001b[38;5;241m.\u001b[39m_pencolor,\n\u001b[0;32m   3169\u001b[0m              \u001b[38;5;28mself\u001b[39m\u001b[38;5;241m.\u001b[39m_pensize,\n\u001b[0;32m   3170\u001b[0m              \u001b[38;5;28misinstance\u001b[39m(\u001b[38;5;28mself\u001b[39m\u001b[38;5;241m.\u001b[39m_fillpath, \u001b[38;5;28mlist\u001b[39m))\n\u001b[0;32m   3171\u001b[0m screen \u001b[38;5;241m=\u001b[39m \u001b[38;5;28mself\u001b[39m\u001b[38;5;241m.\u001b[39mscreen\n\u001b[0;32m   3172\u001b[0m undo_entry \u001b[38;5;241m=\u001b[39m (\u001b[38;5;124m\"\u001b[39m\u001b[38;5;124mgo\u001b[39m\u001b[38;5;124m\"\u001b[39m, \u001b[38;5;28mself\u001b[39m\u001b[38;5;241m.\u001b[39m_position, end, go_modes,\n\u001b[0;32m   3173\u001b[0m               (\u001b[38;5;28mself\u001b[39m\u001b[38;5;241m.\u001b[39mcurrentLineItem,\n\u001b[0;32m   3174\u001b[0m               \u001b[38;5;28mself\u001b[39m\u001b[38;5;241m.\u001b[39mcurrentLine[:],\n\u001b[1;32m-> 3175\u001b[0m               screen\u001b[38;5;241m.\u001b[39m_pointlist(\u001b[38;5;28mself\u001b[39m\u001b[38;5;241m.\u001b[39mcurrentLineItem),\n\u001b[0;32m   3176\u001b[0m               \u001b[38;5;28mself\u001b[39m\u001b[38;5;241m.\u001b[39mitems[:])\n\u001b[0;32m   3177\u001b[0m               )\n\u001b[0;32m   3178\u001b[0m \u001b[38;5;28;01mif\u001b[39;00m \u001b[38;5;28mself\u001b[39m\u001b[38;5;241m.\u001b[39mundobuffer:\n\u001b[0;32m   3179\u001b[0m     \u001b[38;5;28mself\u001b[39m\u001b[38;5;241m.\u001b[39mundobuffer\u001b[38;5;241m.\u001b[39mpush(undo_entry)\n",
      "File \u001b[1;32mC:\\ProgramData\\anaconda3\\Lib\\turtle.py:754\u001b[0m, in \u001b[0;36mTurtleScreenBase._pointlist\u001b[1;34m(self, item)\u001b[0m\n\u001b[0;32m    746\u001b[0m \u001b[38;5;28;01mdef\u001b[39;00m \u001b[38;5;21m_pointlist\u001b[39m(\u001b[38;5;28mself\u001b[39m, item):\n\u001b[0;32m    747\u001b[0m \u001b[38;5;250m    \u001b[39m\u001b[38;5;124;03m\"\"\"returns list of coordinate-pairs of points of item\u001b[39;00m\n\u001b[0;32m    748\u001b[0m \u001b[38;5;124;03m    Example (for insiders):\u001b[39;00m\n\u001b[0;32m    749\u001b[0m \u001b[38;5;124;03m    >>> from turtle import *\u001b[39;00m\n\u001b[1;32m   (...)\u001b[0m\n\u001b[0;32m    752\u001b[0m \u001b[38;5;124;03m    (9.9999999999999982, 0.0)]\u001b[39;00m\n\u001b[0;32m    753\u001b[0m \u001b[38;5;124;03m    >>> \"\"\"\u001b[39;00m\n\u001b[1;32m--> 754\u001b[0m     cl \u001b[38;5;241m=\u001b[39m \u001b[38;5;28mself\u001b[39m\u001b[38;5;241m.\u001b[39mcv\u001b[38;5;241m.\u001b[39mcoords(item)\n\u001b[0;32m    755\u001b[0m     pl \u001b[38;5;241m=\u001b[39m [(cl[i], \u001b[38;5;241m-\u001b[39mcl[i\u001b[38;5;241m+\u001b[39m\u001b[38;5;241m1\u001b[39m]) \u001b[38;5;28;01mfor\u001b[39;00m i \u001b[38;5;129;01min\u001b[39;00m \u001b[38;5;28mrange\u001b[39m(\u001b[38;5;241m0\u001b[39m, \u001b[38;5;28mlen\u001b[39m(cl), \u001b[38;5;241m2\u001b[39m)]\n\u001b[0;32m    756\u001b[0m     \u001b[38;5;28;01mreturn\u001b[39;00m  pl\n",
      "File \u001b[1;32m<string>:1\u001b[0m, in \u001b[0;36mcoords\u001b[1;34m(self, *args, **kw)\u001b[0m\n",
      "File \u001b[1;32mC:\\ProgramData\\anaconda3\\Lib\\tkinter\\__init__.py:2822\u001b[0m, in \u001b[0;36mCanvas.coords\u001b[1;34m(self, *args)\u001b[0m\n\u001b[0;32m   2818\u001b[0m \u001b[38;5;250m\u001b[39m\u001b[38;5;124;03m\"\"\"Return a list of coordinates for the item given in ARGS.\"\"\"\u001b[39;00m\n\u001b[0;32m   2819\u001b[0m \u001b[38;5;66;03m# XXX Should use _flatten on args\u001b[39;00m\n\u001b[0;32m   2820\u001b[0m \u001b[38;5;28;01mreturn\u001b[39;00m [\u001b[38;5;28mself\u001b[39m\u001b[38;5;241m.\u001b[39mtk\u001b[38;5;241m.\u001b[39mgetdouble(x) \u001b[38;5;28;01mfor\u001b[39;00m x \u001b[38;5;129;01min\u001b[39;00m\n\u001b[0;32m   2821\u001b[0m                    \u001b[38;5;28mself\u001b[39m\u001b[38;5;241m.\u001b[39mtk\u001b[38;5;241m.\u001b[39msplitlist(\n\u001b[1;32m-> 2822\u001b[0m            \u001b[38;5;28mself\u001b[39m\u001b[38;5;241m.\u001b[39mtk\u001b[38;5;241m.\u001b[39mcall((\u001b[38;5;28mself\u001b[39m\u001b[38;5;241m.\u001b[39m_w, \u001b[38;5;124m'\u001b[39m\u001b[38;5;124mcoords\u001b[39m\u001b[38;5;124m'\u001b[39m) \u001b[38;5;241m+\u001b[39m args))]\n",
      "\u001b[1;31mTclError\u001b[0m: invalid command name \".!canvas\""
     ]
    }
   ],
   "source": [
    "# Keyboard binding\n",
    "\n",
    "win.listen()\n",
    "win.onkeypress(paddle_left_up,\"u\")\n",
    "win.onkeypress(paddle_left_down,\"e\")\n",
    "win.onkeypress(paddle_right_up,\"Up\")\n",
    "win.onkeypress(paddle_right_down,\"Down\")\n",
    "\n",
    "\n",
    "\n",
    "\n",
    "# Main Game Loop\n",
    "\n",
    "while True:\n",
    "    win.update() # This methods is mandatory to run any game\n",
    "\n",
    "    # Moving the ball\n",
    "    ball.setx(ball.xcor() + ball_dx)\n",
    "    ball.sety(ball.ycor() + ball_dy)\n",
    "\n",
    "    # setting up the border\n",
    "\n",
    "    if ball.ycor() > 290:   # Right top paddle Border\n",
    "        ball.sety(290)\n",
    "        ball_dy = ball_dy * -1\n",
    "        \n",
    "    \n",
    "    if ball.ycor() < -290:  # Left top paddle Border\n",
    "        ball.sety(-290)\n",
    "        ball_dy = ball_dy * -1\n",
    "        \n",
    "\n",
    "    if ball.xcor() > 390:   # right width paddle Border\n",
    "        ball.goto(0,0)\n",
    "        ball_dx = ball_dx * -1\n",
    "        player_a_score = player_a_score + 1\n",
    "        pen.clear()\n",
    "        pen.write(\"Player A: {}                    Player B: {} \".format(player_a_score,player_b_score),align=\"center\",font=('Monaco',24,\"normal\"))\n",
    "        os.system(\"afplay wallhit.wav&\")\n",
    "\n",
    "\n",
    "\n",
    "    if(ball.xcor()) < -390: # Left width paddle Border\n",
    "        ball.goto(0,0)\n",
    "        ball_dx = ball_dx * -1\n",
    "        player_b_score = player_b_score + 1\n",
    "        pen.clear()\n",
    "        pen.write(\"Player A: {}                    Player B: {} \".format(player_a_score,player_b_score),align=\"center\",font=('Monaco',24,\"normal\"))\n",
    "        os.system(\"afplay wallhit.wav&\")\n",
    "\n",
    "\n",
    "    # Handling the collisions with paddles.\n",
    "\n",
    "    if(ball.xcor() > 340) and (ball.xcor() < 350) and (ball.ycor() < paddle_right.ycor() + 40 and ball.ycor() > paddle_right.ycor() - 40):\n",
    "        ball.setx(340)\n",
    "        ball_dx = ball_dx * -1\n",
    "        os.system(\"afplay paddle.wav&\")\n",
    "\n",
    "    if(ball.xcor() < -340) and (ball.xcor() > -350) and (ball.ycor() < paddle_left.ycor() + 40 and ball.ycor() > paddle_left.ycor() - 40):\n",
    "        ball.setx(-340)\n",
    "        ball_dx = ball_dx * -1\n",
    "        os.system(\"afplay paddle.wav&\")"
   ]
  },
  {
   "cell_type": "code",
   "execution_count": null,
   "id": "0c2ad226",
   "metadata": {},
   "outputs": [],
   "source": []
  },
  {
   "cell_type": "code",
   "execution_count": null,
   "id": "a352c2e2",
   "metadata": {},
   "outputs": [],
   "source": []
  },
  {
   "cell_type": "code",
   "execution_count": null,
   "id": "110593f9",
   "metadata": {},
   "outputs": [],
   "source": []
  }
 ],
 "metadata": {
  "kernelspec": {
   "display_name": "Python 3 (ipykernel)",
   "language": "python",
   "name": "python3"
  },
  "language_info": {
   "codemirror_mode": {
    "name": "ipython",
    "version": 3
   },
   "file_extension": ".py",
   "mimetype": "text/x-python",
   "name": "python",
   "nbconvert_exporter": "python",
   "pygments_lexer": "ipython3",
   "version": "3.11.4"
  }
 },
 "nbformat": 4,
 "nbformat_minor": 5
}
